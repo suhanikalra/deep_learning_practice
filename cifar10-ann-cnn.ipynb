{
  "nbformat": 4,
  "nbformat_minor": 0,
  "metadata": {
    "colab": {
      "provenance": [],
      "gpuType": "T4"
    },
    "kernelspec": {
      "name": "python3",
      "display_name": "Python 3"
    },
    "language_info": {
      "name": "python"
    },
    "accelerator": "GPU"
  },
  "cells": [
    {
      "cell_type": "markdown",
      "source": [
        "On the cifar10 dataset first applying ann then cnn to see the improvement in accuracy\n"
      ],
      "metadata": {
        "id": "5VUOjot406TU"
      }
    },
    {
      "cell_type": "code",
      "execution_count": 2,
      "metadata": {
        "id": "OOgCcrFeuGF6"
      },
      "outputs": [],
      "source": [
        "import tensorflow as tf\n",
        "from tensorflow.keras import datasets, layers, models\n",
        "import  matplotlib.pyplot as plt\n",
        "import numpy as np"
      ]
    },
    {
      "cell_type": "code",
      "source": [
        "(x_train, y_train), (x_test, y_test) = datasets.cifar10.load_data()\n",
        "x_train.shape"
      ],
      "metadata": {
        "colab": {
          "base_uri": "https://localhost:8080/"
        },
        "id": "6lexIPCOuOtK",
        "outputId": "47fbdec1-a66e-460c-ee48-507b7e6b2d3e"
      },
      "execution_count": 3,
      "outputs": [
        {
          "output_type": "stream",
          "name": "stdout",
          "text": [
            "Downloading data from https://www.cs.toronto.edu/~kriz/cifar-10-python.tar.gz\n",
            "170498071/170498071 [==============================] - 13s 0us/step\n"
          ]
        },
        {
          "output_type": "execute_result",
          "data": {
            "text/plain": [
              "(50000, 32, 32, 3)"
            ]
          },
          "metadata": {},
          "execution_count": 3
        }
      ]
    },
    {
      "cell_type": "code",
      "source": [
        "x_test.shape"
      ],
      "metadata": {
        "colab": {
          "base_uri": "https://localhost:8080/"
        },
        "id": "O5Vs1YkEuUu7",
        "outputId": "d579215c-b5d9-4d24-b394-70777ffee9e9"
      },
      "execution_count": 4,
      "outputs": [
        {
          "output_type": "execute_result",
          "data": {
            "text/plain": [
              "(10000, 32, 32, 3)"
            ]
          },
          "metadata": {},
          "execution_count": 4
        }
      ]
    },
    {
      "cell_type": "code",
      "source": [
        "y_train[:5]"
      ],
      "metadata": {
        "colab": {
          "base_uri": "https://localhost:8080/"
        },
        "id": "dbGoJbAwvFXD",
        "outputId": "387e869c-7713-452b-f59d-3e7cf2fe23f7"
      },
      "execution_count": 5,
      "outputs": [
        {
          "output_type": "execute_result",
          "data": {
            "text/plain": [
              "array([[6],\n",
              "       [9],\n",
              "       [9],\n",
              "       [4],\n",
              "       [1]], dtype=uint8)"
            ]
          },
          "metadata": {},
          "execution_count": 5
        }
      ]
    },
    {
      "cell_type": "code",
      "source": [
        "y_train = y_train.reshape(-1,)\n",
        "y_train[:5]"
      ],
      "metadata": {
        "colab": {
          "base_uri": "https://localhost:8080/"
        },
        "id": "lEYBZFzXvKa8",
        "outputId": "dd7c832f-a90e-457f-ec62-462bc4307ce4"
      },
      "execution_count": 6,
      "outputs": [
        {
          "output_type": "execute_result",
          "data": {
            "text/plain": [
              "array([6, 9, 9, 4, 1], dtype=uint8)"
            ]
          },
          "metadata": {},
          "execution_count": 6
        }
      ]
    },
    {
      "cell_type": "code",
      "source": [
        "classes= [\"airplane\",\"automobile\",\"bird\",\"cat\",\"deer\",\"dog\",\"frog\",\"horse\",\"ship\",\"truck\"]"
      ],
      "metadata": {
        "id": "NzcRTibdu09R"
      },
      "execution_count": 7,
      "outputs": []
    },
    {
      "cell_type": "code",
      "source": [
        "classes[9]"
      ],
      "metadata": {
        "colab": {
          "base_uri": "https://localhost:8080/",
          "height": 36
        },
        "id": "_rgHhLPhvXO4",
        "outputId": "820885c7-ef01-410a-b806-44cb9bf81013"
      },
      "execution_count": 8,
      "outputs": [
        {
          "output_type": "execute_result",
          "data": {
            "text/plain": [
              "'truck'"
            ],
            "application/vnd.google.colaboratory.intrinsic+json": {
              "type": "string"
            }
          },
          "metadata": {},
          "execution_count": 8
        }
      ]
    },
    {
      "cell_type": "code",
      "source": [
        "def plot_sample(x, y, index):\n",
        "    plt.figure(figsize=(15,2))\n",
        "    plt.imshow(x[index])\n",
        "    plt.xlabel(classes[y[index]])"
      ],
      "metadata": {
        "id": "ilcxwapauZOl"
      },
      "execution_count": 9,
      "outputs": []
    },
    {
      "cell_type": "code",
      "source": [
        "plot_sample(x_train, y_train, 0)"
      ],
      "metadata": {
        "colab": {
          "base_uri": "https://localhost:8080/",
          "height": 237
        },
        "id": "RjnMb9cgulT4",
        "outputId": "ecd90caf-d8ad-4170-ed54-4159057c2e6c"
      },
      "execution_count": 10,
      "outputs": [
        {
          "output_type": "display_data",
          "data": {
            "text/plain": [
              "<Figure size 1500x200 with 1 Axes>"
            ],
            "image/png": "[encoded data removed]"
          },
          "metadata": {}
        }
      ]
    },
    {
      "cell_type": "code",
      "source": [
        "plot_sample(x_train, y_train, 8)"
      ],
      "metadata": {
        "colab": {
          "base_uri": "https://localhost:8080/",
          "height": 237
        },
        "id": "Zf5s37bFveyb",
        "outputId": "b87bb307-2e03-41b5-fd0d-3337ab291cdf"
      },
      "execution_count": 11,
      "outputs": [
        {
          "output_type": "display_data",
          "data": {
            "text/plain": [
              "<Figure size 1500x200 with 1 Axes>"
            ],
            "image/png": "[encoded data removed]"
          },
          "metadata": {}
        }
      ]
    },
    {
      "cell_type": "code",
      "source": [
        "x_train = x_train / 255.0\n",
        "x_test = x_test / 255.0"
      ],
      "metadata": {
        "id": "uIQRBsjqvjui"
      },
      "execution_count": 12,
      "outputs": []
    },
    {
      "cell_type": "code",
      "source": [
        "ann = models.Sequential([\n",
        "    layers.Flatten(input_shape=(32,32,3)),\n",
        "    layers.Dense(3000, activation='relu'),\n",
        "    layers.Dense(1000, activation='relu'),\n",
        "    layers.Dense(10, activation='softmax')\n",
        "\n",
        "])\n",
        "\n",
        "ann.compile(optimizer='SGD',\n",
        "              loss='sparse_categorical_crossentropy',\n",
        "              metrics=['accuracy'])\n",
        "\n",
        "ann.fit(x_train, y_train, epochs=5)"
      ],
      "metadata": {
        "colab": {
          "base_uri": "https://localhost:8080/"
        },
        "id": "YBxGk6zOvv55",
        "outputId": "10b9353a-659a-4fa5-f427-c28ee424c42d"
      },
      "execution_count": 13,
      "outputs": [
        {
          "output_type": "stream",
          "name": "stdout",
          "text": [
            "Epoch 1/5\n",
            "1563/1563 [==============================] - 9s 5ms/step - loss: 1.8079 - accuracy: 0.3582\n",
            "Epoch 2/5\n",
            "1563/1563 [==============================] - 7s 5ms/step - loss: 1.6210 - accuracy: 0.4272\n",
            "Epoch 3/5\n",
            "1563/1563 [==============================] - 7s 5ms/step - loss: 1.5406 - accuracy: 0.4557\n",
            "Epoch 4/5\n",
            "1563/1563 [==============================] - 7s 5ms/step - loss: 1.4795 - accuracy: 0.4807\n",
            "Epoch 5/5\n",
            "1563/1563 [==============================] - 7s 4ms/step - loss: 1.4295 - accuracy: 0.4956\n"
          ]
        },
        {
          "output_type": "execute_result",
          "data": {
            "text/plain": [
              "<keras.src.callbacks.History at 0x7e575c245150>"
            ]
          },
          "metadata": {},
          "execution_count": 13
        }
      ]
    },
    {
      "cell_type": "code",
      "source": [
        "ann.evaluate(x_test,y_test)"
      ],
      "metadata": {
        "colab": {
          "base_uri": "https://localhost:8080/"
        },
        "id": "6tdRwosCwFw6",
        "outputId": "0f75dcf1-5a67-4e36-ba97-07814c48536d"
      },
      "execution_count": 14,
      "outputs": [
        {
          "output_type": "stream",
          "name": "stdout",
          "text": [
            "313/313 [==============================] - 1s 3ms/step - loss: 1.6240 - accuracy: 0.4338\n"
          ]
        },
        {
          "output_type": "execute_result",
          "data": {
            "text/plain": [
              "[1.6239796876907349, 0.43380001187324524]"
            ]
          },
          "metadata": {},
          "execution_count": 14
        }
      ]
    },
    {
      "cell_type": "code",
      "source": [
        "from sklearn.metrics import confusion_matrix , classification_report\n",
        "import numpy as np\n",
        "y_pred = ann.predict(x_test)\n",
        "y_pred_classes = [np.argmax(element) for element in y_pred]\n",
        "\n",
        "print(\"Classification Report: \\n\", classification_report(y_test, y_pred_classes))"
      ],
      "metadata": {
        "id": "f_rDjZv_wjv1",
        "outputId": "86a1470a-b9e9-41f5-8e0d-b35baed1d804",
        "colab": {
          "base_uri": "https://localhost:8080/"
        }
      },
      "execution_count": 15,
      "outputs": [
        {
          "output_type": "stream",
          "name": "stdout",
          "text": [
            "313/313 [==============================] - 1s 2ms/step\n",
            "Classification Report: \n",
            "               precision    recall  f1-score   support\n",
            "\n",
            "           0       0.64      0.35      0.45      1000\n",
            "           1       0.77      0.30      0.44      1000\n",
            "           2       0.30      0.46      0.37      1000\n",
            "           3       0.26      0.55      0.35      1000\n",
            "           4       0.53      0.26      0.35      1000\n",
            "           5       0.58      0.12      0.20      1000\n",
            "           6       0.39      0.73      0.51      1000\n",
            "           7       0.50      0.57      0.53      1000\n",
            "           8       0.75      0.41      0.53      1000\n",
            "           9       0.48      0.58      0.53      1000\n",
            "\n",
            "    accuracy                           0.43     10000\n",
            "   macro avg       0.52      0.43      0.43     10000\n",
            "weighted avg       0.52      0.43      0.43     10000\n",
            "\n"
          ]
        }
      ]
    },
    {
      "cell_type": "code",
      "source": [
        "cnn = models.Sequential([\n",
        "    layers.Conv2D(filters=32, kernel_size=(3, 3), activation='relu', input_shape=(32, 32, 3)),\n",
        "    layers.MaxPooling2D((2, 2)),\n",
        "    layers.Flatten(),\n",
        "    layers.Dense(64, activation='relu'),\n",
        "    layers.Dense(10, activation='softmax')\n",
        "])"
      ],
      "metadata": {
        "id": "OJGc8K-KwoPZ"
      },
      "execution_count": 16,
      "outputs": []
    },
    {
      "cell_type": "code",
      "source": [
        "cnn.compile(optimizer='adam',\n",
        "              loss='sparse_categorical_crossentropy',\n",
        "              metrics=['accuracy'])"
      ],
      "metadata": {
        "id": "6eXB4A9CxFy0"
      },
      "execution_count": 17,
      "outputs": []
    },
    {
      "cell_type": "code",
      "source": [
        "cnn.fit(x_train, y_train, epochs=20\n",
        "        )"
      ],
      "metadata": {
        "id": "lQxOIcPnyWD_",
        "outputId": "e980e27f-cf25-403d-f3d9-08033810672b",
        "colab": {
          "base_uri": "https://localhost:8080/"
        }
      },
      "execution_count": 18,
      "outputs": [
        {
          "output_type": "stream",
          "name": "stdout",
          "text": [
            "Epoch 1/20\n",
            "1563/1563 [==============================] - 9s 4ms/step - loss: 1.5077 - accuracy: 0.4634\n",
            "Epoch 2/20\n",
            "1563/1563 [==============================] - 5s 3ms/step - loss: 1.2196 - accuracy: 0.5745\n",
            "Epoch 3/20\n",
            "1563/1563 [==============================] - 5s 3ms/step - loss: 1.1005 - accuracy: 0.6159\n",
            "Epoch 4/20\n",
            "1563/1563 [==============================] - 6s 4ms/step - loss: 1.0231 - accuracy: 0.6446\n",
            "Epoch 5/20\n",
            "1563/1563 [==============================] - 5s 4ms/step - loss: 0.9558 - accuracy: 0.6680\n",
            "Epoch 6/20\n",
            "1563/1563 [==============================] - 6s 4ms/step - loss: 0.9017 - accuracy: 0.6878\n",
            "Epoch 7/20\n",
            "1563/1563 [==============================] - 5s 3ms/step - loss: 0.8575 - accuracy: 0.7005\n",
            "Epoch 8/20\n",
            "1563/1563 [==============================] - 6s 4ms/step - loss: 0.8116 - accuracy: 0.7174\n",
            "Epoch 9/20\n",
            "1563/1563 [==============================] - 5s 3ms/step - loss: 0.7798 - accuracy: 0.7278\n",
            "Epoch 10/20\n",
            "1563/1563 [==============================] - 5s 3ms/step - loss: 0.7447 - accuracy: 0.7407\n",
            "Epoch 11/20\n",
            "1563/1563 [==============================] - 6s 4ms/step - loss: 0.7049 - accuracy: 0.7533\n",
            "Epoch 12/20\n",
            "1563/1563 [==============================] - 5s 3ms/step - loss: 0.6728 - accuracy: 0.7660\n",
            "Epoch 13/20\n",
            "1563/1563 [==============================] - 6s 4ms/step - loss: 0.6451 - accuracy: 0.7740\n",
            "Epoch 14/20\n",
            "1563/1563 [==============================] - 5s 3ms/step - loss: 0.6077 - accuracy: 0.7888\n",
            "Epoch 15/20\n",
            "1563/1563 [==============================] - 6s 4ms/step - loss: 0.5846 - accuracy: 0.7925\n",
            "Epoch 16/20\n",
            "1563/1563 [==============================] - 5s 3ms/step - loss: 0.5532 - accuracy: 0.8076\n",
            "Epoch 17/20\n",
            "1563/1563 [==============================] - 5s 4ms/step - loss: 0.5246 - accuracy: 0.8159\n",
            "Epoch 18/20\n",
            "1563/1563 [==============================] - 6s 4ms/step - loss: 0.4971 - accuracy: 0.8252\n",
            "Epoch 19/20\n",
            "1563/1563 [==============================] - 5s 3ms/step - loss: 0.4676 - accuracy: 0.8373\n",
            "Epoch 20/20\n",
            "1563/1563 [==============================] - 6s 4ms/step - loss: 0.4431 - accuracy: 0.8439\n"
          ]
        },
        {
          "output_type": "execute_result",
          "data": {
            "text/plain": [
              "<keras.src.callbacks.History at 0x7e56f090d090>"
            ]
          },
          "metadata": {},
          "execution_count": 18
        }
      ]
    },
    {
      "cell_type": "code",
      "source": [
        "cnn.evaluate(x_test,y_test)"
      ],
      "metadata": {
        "id": "wlKgSnutybOY",
        "outputId": "f11a449e-ee1c-485f-c5db-4fbca971ab32",
        "colab": {
          "base_uri": "https://localhost:8080/"
        }
      },
      "execution_count": 19,
      "outputs": [
        {
          "output_type": "stream",
          "name": "stdout",
          "text": [
            "313/313 [==============================] - 1s 2ms/step - loss: 1.3895 - accuracy: 0.6326\n"
          ]
        },
        {
          "output_type": "execute_result",
          "data": {
            "text/plain": [
              "[1.3894858360290527, 0.6326000094413757]"
            ]
          },
          "metadata": {},
          "execution_count": 19
        }
      ]
    },
    {
      "cell_type": "code",
      "source": [
        "y_test = y_test.reshape(-1,)\n",
        "y_test[:5]"
      ],
      "metadata": {
        "id": "E4JvSxxayv30",
        "outputId": "11270c78-0cfd-45ef-a206-877b1a0768ed",
        "colab": {
          "base_uri": "https://localhost:8080/"
        }
      },
      "execution_count": 20,
      "outputs": [
        {
          "output_type": "execute_result",
          "data": {
            "text/plain": [
              "array([3, 8, 8, 0, 6], dtype=uint8)"
            ]
          },
          "metadata": {},
          "execution_count": 20
        }
      ]
    },
    {
      "cell_type": "code",
      "source": [
        "plot_sample(x_test, y_test,3)"
      ],
      "metadata": {
        "id": "7BrQO-02zzZD",
        "outputId": "08179508-771c-4614-ca69-f59592fab481",
        "colab": {
          "base_uri": "https://localhost:8080/",
          "height": 237
        }
      },
      "execution_count": 21,
      "outputs": [
        {
          "output_type": "display_data",
          "data": {
            "text/plain": [
              "<Figure size 1500x200 with 1 Axes>"
            ],
            "image/png": "[encoded data removed]"
          },
          "metadata": {}
        }
      ]
    },
    {
      "cell_type": "code",
      "source": [
        "y_pred = cnn.predict(x_test)\n",
        "y_pred[:5]"
      ],
      "metadata": {
        "id": "k-v2oJN6z1Yq",
        "outputId": "fb1c78ec-dc7c-4774-f946-286ae2b0dc96",
        "colab": {
          "base_uri": "https://localhost:8080/"
        }
      },
      "execution_count": 22,
      "outputs": [
        {
          "output_type": "stream",
          "name": "stdout",
          "text": [
            "313/313 [==============================] - 1s 2ms/step\n"
          ]
        },
        {
          "output_type": "execute_result",
          "data": {
            "text/plain": [
              "array([[2.33551491e-05, 2.00254976e-06, 5.15645230e-03, 8.78592670e-01,\n",
              "        8.67399867e-05, 2.61537335e-03, 1.12179607e-01, 2.15904024e-07,\n",
              "        1.34345971e-03, 9.62787254e-08],\n",
              "       [8.31643320e-06, 3.32059115e-02, 8.71053160e-11, 3.49798124e-09,\n",
              "        1.36959263e-11, 3.32998684e-10, 7.40693878e-12, 7.56960900e-13,\n",
              "        9.66767550e-01, 1.82033818e-05],\n",
              "       [2.94138968e-01, 2.27054343e-01, 1.64725534e-05, 1.50399683e-05,\n",
              "        1.58356252e-05, 1.55850444e-07, 3.68392818e-08, 6.48771020e-05,\n",
              "        3.60324562e-01, 1.18369646e-01],\n",
              "       [5.73019564e-01, 1.22397445e-01, 1.96062267e-01, 3.51637141e-06,\n",
              "        5.65930852e-04, 6.03296371e-07, 6.41582534e-03, 3.03982006e-07,\n",
              "        1.01126507e-01, 4.08011460e-04],\n",
              "       [8.91624126e-08, 1.79076721e-06, 2.23398842e-02, 2.84094423e-01,\n",
              "        2.16622874e-01, 5.05957194e-03, 4.71879780e-01, 3.14297677e-09,\n",
              "        2.51175464e-07, 1.32220441e-06]], dtype=float32)"
            ]
          },
          "metadata": {},
          "execution_count": 22
        }
      ]
    },
    {
      "cell_type": "code",
      "source": [
        "y_classess=[np.argmax(element) for element in y_pred]\n",
        "y_classess[:5]"
      ],
      "metadata": {
        "id": "t3zEiEXyz5D4",
        "outputId": "9b6c5d08-a2a9-461b-9f2a-41b1d26bb827",
        "colab": {
          "base_uri": "https://localhost:8080/"
        }
      },
      "execution_count": 23,
      "outputs": [
        {
          "output_type": "execute_result",
          "data": {
            "text/plain": [
              "[3, 8, 8, 0, 6]"
            ]
          },
          "metadata": {},
          "execution_count": 23
        }
      ]
    },
    {
      "cell_type": "code",
      "source": [
        "y_test[:5]"
      ],
      "metadata": {
        "id": "1JGr-sVy0Bhn",
        "outputId": "a48c959c-3194-4dcd-cdfc-fc5fccd04c32",
        "colab": {
          "base_uri": "https://localhost:8080/"
        }
      },
      "execution_count": 24,
      "outputs": [
        {
          "output_type": "execute_result",
          "data": {
            "text/plain": [
              "array([3, 8, 8, 0, 6], dtype=uint8)"
            ]
          },
          "metadata": {},
          "execution_count": 24
        }
      ]
    },
    {
      "cell_type": "code",
      "source": [
        "classes[y_classess[3]]"
      ],
      "metadata": {
        "id": "g9XLy-c30UEs",
        "outputId": "1a0284dc-bd0a-4bf5-dc46-88f3dcc53a46",
        "colab": {
          "base_uri": "https://localhost:8080/",
          "height": 36
        }
      },
      "execution_count": 25,
      "outputs": [
        {
          "output_type": "execute_result",
          "data": {
            "text/plain": [
              "'airplane'"
            ],
            "application/vnd.google.colaboratory.intrinsic+json": {
              "type": "string"
            }
          },
          "metadata": {},
          "execution_count": 25
        }
      ]
    },
    {
      "cell_type": "code",
      "source": [
        "print(\"Classification Report: \\n\", classification_report(y_test, y_classess))"
      ],
      "metadata": {
        "id": "3PZe4Taz0em-",
        "outputId": "cc7d466e-f111-4460-e884-8600276eeb82",
        "colab": {
          "base_uri": "https://localhost:8080/"
        }
      },
      "execution_count": 26,
      "outputs": [
        {
          "output_type": "stream",
          "name": "stdout",
          "text": [
            "Classification Report: \n",
            "               precision    recall  f1-score   support\n",
            "\n",
            "           0       0.71      0.64      0.67      1000\n",
            "           1       0.74      0.75      0.75      1000\n",
            "           2       0.56      0.40      0.46      1000\n",
            "           3       0.43      0.46      0.45      1000\n",
            "           4       0.55      0.63      0.59      1000\n",
            "           5       0.50      0.60      0.55      1000\n",
            "           6       0.72      0.69      0.70      1000\n",
            "           7       0.73      0.64      0.68      1000\n",
            "           8       0.75      0.76      0.76      1000\n",
            "           9       0.69      0.76      0.72      1000\n",
            "\n",
            "    accuracy                           0.63     10000\n",
            "   macro avg       0.64      0.63      0.63     10000\n",
            "weighted avg       0.64      0.63      0.63     10000\n",
            "\n"
          ]
        }
      ]
    },
    {
      "cell_type": "code",
      "source": [],
      "metadata": {
        "id": "YLqsxUVf0tid"
      },
      "execution_count": 26,
      "outputs": []
    }
  ]
}